{
 "cells": [
  {
   "cell_type": "code",
   "execution_count": 1,
   "id": "2ed06438",
   "metadata": {},
   "outputs": [
    {
     "name": "stderr",
     "output_type": "stream",
     "text": [
      "C:\\Users\\bhuwa\\AppData\\Local\\Programs\\Python\\Python38\\lib\\site-packages\\sklearn\\base.py:329: UserWarning: Trying to unpickle estimator MultinomialNB from version 1.0.2 when using version 1.1.2. This might lead to breaking code or invalid results. Use at your own risk. For more info please refer to:\n",
      "https://scikit-learn.org/stable/model_persistence.html#security-maintainability-limitations\n",
      "  warnings.warn(\n",
      "C:\\Users\\bhuwa\\AppData\\Local\\Programs\\Python\\Python38\\lib\\site-packages\\sklearn\\base.py:329: UserWarning: Trying to unpickle estimator CountVectorizer from version 1.0.2 when using version 1.1.2. This might lead to breaking code or invalid results. Use at your own risk. For more info please refer to:\n",
      "https://scikit-learn.org/stable/model_persistence.html#security-maintainability-limitations\n",
      "  warnings.warn(\n"
     ]
    }
   ],
   "source": [
    "#open save the model\n",
    "\n",
    "import pickle as pkl\n",
    "with open('model.pkl','rb') as file:\n",
    "    model = pkl.load(file)\n",
    "    \n",
    "# test with save cntvectoriser\n",
    "\n",
    "import pickle as pkl\n",
    "with open('cntvectorizer.pkl','rb') as file:\n",
    "    vectorizer = pkl.load(file)"
   ]
  },
  {
   "cell_type": "code",
   "execution_count": 13,
   "id": "59c2f6bf",
   "metadata": {},
   "outputs": [
    {
     "name": "stdout",
     "output_type": "stream",
     "text": [
      "The news headline is fake\n"
     ]
    }
   ],
   "source": [
    "new_test = [\"Donald Trump Is Actually Helping Puerto Rico (It's Just the Puerto Rican People's Fault)\"]\n",
    "r = vectorizer.transform(new_test)\n",
    "res = model.predict(r)\n",
    "\n",
    "if res == 0:\n",
    "    print(\"The news headline is fake\")\n",
    "else:\n",
    "    print(\"The news headline is real\")"
   ]
  },
  {
   "cell_type": "code",
   "execution_count": null,
   "id": "f40edda3",
   "metadata": {},
   "outputs": [],
   "source": []
  }
 ],
 "metadata": {
  "kernelspec": {
   "display_name": "Python 3 (ipykernel)",
   "language": "python",
   "name": "python3"
  },
  "language_info": {
   "codemirror_mode": {
    "name": "ipython",
    "version": 3
   },
   "file_extension": ".py",
   "mimetype": "text/x-python",
   "name": "python",
   "nbconvert_exporter": "python",
   "pygments_lexer": "ipython3",
   "version": "3.8.8"
  }
 },
 "nbformat": 4,
 "nbformat_minor": 5
}
